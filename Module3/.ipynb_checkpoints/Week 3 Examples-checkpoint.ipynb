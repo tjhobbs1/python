{
 "cells": [
  {
   "cell_type": "markdown",
   "metadata": {},
   "source": [
    "# Strings, lists, I/O, operators"
   ]
  },
  {
   "cell_type": "markdown",
   "metadata": {},
   "source": [
    "## Topic 1 - Strings and Lists"
   ]
  },
  {
   "cell_type": "code",
   "execution_count": 1,
   "metadata": {},
   "outputs": [
    {
     "name": "stdout",
     "output_type": "stream",
     "text": [
      "Itwas thebest of times\n",
      "It was the best of times\n",
      "It was the best of times\n"
     ]
    }
   ],
   "source": [
    "# Here are some strings assigned to variables\n",
    "string_1 = 'It'\n",
    "string_2 = 'was the'\n",
    "string_3 = 'best of times'\n",
    "\n",
    "# They can be concatenated together just like math\n",
    "print (string_1+string_2+string_3)\n",
    "\n",
    "# Let's add some spaces in there to make it look better\n",
    "print(string_1+ \" \" + string_2+ ' '+string_3)\n",
    "\n",
    "# We can also assign the result to a variable\n",
    "two_cities_tale= string_1+ \" \" + string_2+ ' '+string_3\n",
    "print(two_cities_tale)"
   ]
  },
  {
   "cell_type": "code",
   "execution_count": null,
   "metadata": {},
   "outputs": [],
   "source": [
    "# We can also multiply strings\n",
    "print(two_cities_tale*5)"
   ]
  },
  {
   "cell_type": "code",
   "execution_count": null,
   "metadata": {},
   "outputs": [],
   "source": [
    "# The \"in\" operator lets us check to see if a string of text is contained in another string of text\n",
    "# Please note that this check is case sensitive\n",
    "print(\"best of times\" in two_cities_tale)\n",
    "print(\"worst of times\" in two_cities_tale)\n"
   ]
  },
  {
   "cell_type": "code",
   "execution_count": null,
   "metadata": {},
   "outputs": [],
   "source": [
    "# We can also do the opposite and use \"not in\" to check if a string is not in another string\n",
    "# Please note that this check is case sensitive\n",
    "print(\"age of foolishness\" not in two_cities_tale)\n",
    "print(\"best of times\" not in two_cities_tale)"
   ]
  },
  {
   "cell_type": "code",
   "execution_count": null,
   "metadata": {},
   "outputs": [],
   "source": [
    "# We can check the length of a string using 'len()'\n",
    "print(len(two_cities_tale))\n",
    "print(len('how long do you think this string would be?'))\n",
    "print(len(two_cities_tale + ' , it was the worst of times'))"
   ]
  },
  {
   "cell_type": "code",
   "execution_count": null,
   "metadata": {},
   "outputs": [],
   "source": [
    "# Here are some other string functions:\n",
    "# chr() returns the ascii character matching the number\n",
    "print(chr(72)+chr(101)+chr(108)*2+chr(111)+chr(33))\n",
    "\n",
    "# ord() does the opposite, returning the ascii number for a character\n",
    "print(ord('H'))\n",
    "\n",
    "# str() turns objects into strings\n",
    "mytext=str(12345.789)\n",
    "print(type(mytext))"
   ]
  },
  {
   "cell_type": "code",
   "execution_count": null,
   "metadata": {},
   "outputs": [],
   "source": [
    "# Lists are groups of objects\n",
    "mixed_list = [2,'legit',2.,'quit']\n",
    "print(mixed_list)\n",
    "print(type(mixed_list))\n",
    "\n",
    "# Each item in a list can be of a different type. Items can be accessed by their index position (zero is the first position)\n",
    "print(type(mixed_list[0]))\n",
    "print(type(mixed_list[1]))\n",
    "print(type(mixed_list[2]))\n",
    "print(type(mixed_list[3]))"
   ]
  },
  {
   "cell_type": "code",
   "execution_count": null,
   "metadata": {},
   "outputs": [],
   "source": [
    "# There are many manipulations that can be done on lists\n",
    "# Items can be appended\n",
    "mixed_list.append(2)\n",
    "mixed_list.append('legit')\n",
    "print(mixed_list)\n",
    "\n",
    "# The list can be copied\n",
    "other_mixed_list = mixed_list.copy()\n",
    "print(other_mixed_list)\n",
    "\n",
    "# A list can be extended with another list\n",
    "other_mixed_list.extend(mixed_list)\n",
    "print(other_mixed_list)\n",
    "\n",
    "# The list can be cleared\n",
    "mixed_list.clear()\n",
    "print(mixed_list)"
   ]
  },
  {
   "cell_type": "markdown",
   "metadata": {},
   "source": [
    "## Topic 2 - Basic Input and Output"
   ]
  },
  {
   "cell_type": "code",
   "execution_count": null,
   "metadata": {},
   "outputs": [],
   "source": [
    "# Users can input data using input() and this data can be stored in a variable for use in your program\n",
    "user_info = input(\"Enter your favorite number:\")\n",
    "print(user_info)"
   ]
  },
  {
   "cell_type": "code",
   "execution_count": null,
   "metadata": {},
   "outputs": [],
   "source": [
    "# Formatting can be included in outputs\n",
    "# Here are examples using the string modulo operator\n",
    "    # The first takes numbers from the tuple (more on tuples later) and inserts them with specific formatting\n",
    "    # The formatting reads like this: for \"%2i\" - % 2 means two digits and \"i\" means integer. \n",
    "    # For \"%10.3f\" - 10 is the number of digits before the decimal and will be padded if there aren't enough numbers\n",
    "    # the .3 is how many after the decimal and will pad if there aren't enough numbers.  \"f\" means float\n",
    "print(\"I am showing %2i and including this float number %10.3f\" %(10, 05.33))\n",
    "\n",
    "# Stored tuples can be used to build outputs\n",
    "person_1_bio = (\"Matt\", \"Gilbertson\",  \"teacher\", \"He\", 39)\n",
    "person_2_bio = (\"Jane\", \"Doe\", \"student\", \"She\", 29)\n",
    "sentence_format = \"%s %s is a %s. %s is %2i years old.\"\n",
    "print (sentence_format % person_1_bio)\n",
    "print (sentence_format % person_2_bio)"
   ]
  },
  {
   "cell_type": "code",
   "execution_count": null,
   "metadata": {},
   "outputs": [],
   "source": [
    "# .format() can also be used in a similar fashion\n",
    "sentence_format = \"{} {} is a {}. {} is {} years old.\"\n",
    "print (sentence_format.format(\"Matt\", \"Gilbertson\",  \"teacher\", \"He\", 39))\n",
    "print (sentence_format.format(\"Jane\", \"Doe\", \"student\", \"She\", 29))\n",
    "\n",
    "# the order of strings can also be defined (recall that Python is 0 indexed so count starting at zero)\n",
    "sentence_format_mixed = \"{4} {3} is a {2}. {1} is {0} years old.\"\n",
    "print (sentence_format_mixed.format(\"Jane\", \"Doe\", \"student\", \"She\", 29))"
   ]
  },
  {
   "cell_type": "code",
   "execution_count": null,
   "metadata": {
    "scrolled": true
   },
   "outputs": [],
   "source": [
    "import unittest\n",
    "import unittest.mock as mock\n",
    "\n",
    "\n",
    "class MyTestCase(unittest.TestCase):\n",
    "\n",
    "    def test_quit(self):\n",
    "\n",
    "        with mock.patch('builtins.input', return_value=\"yes\"):\n",
    "            assert yes_or_no() == \"Sorry to see you go!\"\n",
    "\n",
    "        with mock.patch('builtins.input', return_value=\"no\"):\n",
    "            assert yes_or_no() == \"Awesome!\"\n",
    "      \n",
    "        with mock.patch('builtins.input', return_value=\"123\"):\n",
    "            assert yes_or_no() == \"BANG!\"\n",
    "\n",
    "if __name__ == '__main__':\n",
    "    unittest.main(argv=[''],exit=False)"
   ]
  },
  {
   "cell_type": "code",
   "execution_count": null,
   "metadata": {},
   "outputs": [],
   "source": [
    "def yes_or_no():\n",
    "    answer = input(\"Do you want to quit? > \")\n",
    "    if answer == \"yes\":\n",
    "        return(\"Sorry to see you go!\")\n",
    "    elif answer == \"no\":\n",
    "        return(\"Awesome!\")\n",
    "    else:\n",
    "        return(\"BANG!\")"
   ]
  },
  {
   "cell_type": "markdown",
   "metadata": {},
   "source": [
    "## Topic 3 - Operators"
   ]
  },
  {
   "cell_type": "code",
   "execution_count": null,
   "metadata": {},
   "outputs": [],
   "source": [
    "#Boolean objects resolve to either True or False\n",
    "print(5==5)\n",
    "print(4>4)\n",
    "print(4>=4)\n",
    "print(type(10<5))"
   ]
  }
 ],
 "metadata": {
  "kernelspec": {
   "display_name": "Python 3",
   "language": "python",
   "name": "python3"
  },
  "language_info": {
   "codemirror_mode": {
    "name": "ipython",
    "version": 3
   },
   "file_extension": ".py",
   "mimetype": "text/x-python",
   "name": "python",
   "nbconvert_exporter": "python",
   "pygments_lexer": "ipython3",
   "version": "3.7.3"
  }
 },
 "nbformat": 4,
 "nbformat_minor": 2
}
