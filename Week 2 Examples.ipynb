{
 "cells": [
  {
   "cell_type": "markdown",
   "metadata": {},
   "source": [
    "# Basic Variables, Arithmetic, Casting"
   ]
  },
  {
   "cell_type": "markdown",
   "metadata": {},
   "source": [
    "## Topic 2 - Data Types and Variables"
   ]
  },
  {
   "cell_type": "code",
   "execution_count": 2,
   "metadata": {},
   "outputs": [
    {
     "data": {
      "text/plain": [
       "'HelloHelloHelloHelloHello'"
      ]
     },
     "execution_count": 2,
     "metadata": {},
     "output_type": "execute_result"
    }
   ],
   "source": [
    "# Concatenation of strings\n",
    "\"Hello\" + \",\" + \" \" + \"Python\" + \"!\"\n",
    "\"Hello\"*5"
   ]
  },
  {
   "cell_type": "code",
   "execution_count": null,
   "metadata": {},
   "outputs": [],
   "source": [
    "# Including escape characters (in this case \"\\t\" adds tabs)\n",
    "print(\"Hello\" + \",\" + \"\\t\\t\\t\" + \"Python\" + \"!\")"
   ]
  },
  {
   "cell_type": "code",
   "execution_count": null,
   "metadata": {},
   "outputs": [],
   "source": [
    "# I could also assign my strings to variables and output them\n",
    "first_word='HELLO'\n",
    "second_word='PYTHON!'\n",
    "first_word + \" \" + second_word"
   ]
  },
  {
   "cell_type": "code",
   "execution_count": 3,
   "metadata": {},
   "outputs": [
    {
     "name": "stdout",
     "output_type": "stream",
     "text": [
      "-5\n",
      "<class 'int'>\n"
     ]
    }
   ],
   "source": [
    "# I'm first assigning a variable my_integer and printing it\n",
    "my_integer = -5\n",
    "print(my_integer)\n",
    "\n",
    "# Now I'm using the \"type\" function to print the class of my variable \n",
    "variable_type = type(my_integer)\n",
    "print(variable_type)\n",
    "#this is case sensitive#"
   ]
  },
  {
   "cell_type": "code",
   "execution_count": null,
   "metadata": {},
   "outputs": [],
   "source": [
    "# The inclusion of a decimal point results in a float instead of an integer\n",
    "my_float = 1.75\n",
    "print(type(my_float))\n",
    "\n",
    "# There doesn't need to be any numbers after the decimal to be assigned as a float\n",
    "my_float2 = 25.\n",
    "print(type(my_float2))"
   ]
  },
  {
   "cell_type": "markdown",
   "metadata": {},
   "source": [
    "## Topic 3 - Arithmetic Operations"
   ]
  },
  {
   "cell_type": "code",
   "execution_count": null,
   "metadata": {},
   "outputs": [],
   "source": [
    "print(4 + 7)     # Addition\n",
    "print(2 - 2)     # Subtraction\n",
    "print(3 * 9)     # Multiplication   \n",
    "print(2**4)      # Exponent\n",
    "print(11 / 4)    # Division\n",
    "print (13 % 4)   # Modulus, remainder of integer division\n",
    "print (9 // 5)   # Floor division\n",
    "print (-9 // 2)  # Floor division"
   ]
  },
  {
   "cell_type": "code",
   "execution_count": 4,
   "metadata": {},
   "outputs": [
    {
     "name": "stdout",
     "output_type": "stream",
     "text": [
      "206.64\n",
      "<class 'float'>\n"
     ]
    }
   ],
   "source": [
    "# Multiplying an integer and a float\n",
    "first_number = 12    # an integer\n",
    "second_number = 17.22 # a float\n",
    "solution = first_number*second_number\n",
    "print(solution)\n",
    "print(type(solution))"
   ]
  },
  {
   "cell_type": "code",
   "execution_count": null,
   "metadata": {},
   "outputs": [],
   "source": [
    "first_number = 1.5\n",
    "second_number = 2.5\n",
    "solution = first_number + second_number\n",
    "print(solution)\n",
    "print(type(solution))"
   ]
  },
  {
   "cell_type": "markdown",
   "metadata": {},
   "source": [
    "## Topic 4 - Intro to Functions"
   ]
  },
  {
   "cell_type": "code",
   "execution_count": null,
   "metadata": {},
   "outputs": [],
   "source": [
    "# Create a function that returns a string when called\n",
    "def call_me():\n",
    "    print('my number is 555-555-5555')"
   ]
  },
  {
   "cell_type": "code",
   "execution_count": null,
   "metadata": {},
   "outputs": [],
   "source": [
    "# call my function\n",
    "call_me()"
   ]
  },
  {
   "cell_type": "code",
   "execution_count": null,
   "metadata": {},
   "outputs": [],
   "source": [
    "# Create a function that takes a variable and increments it by 1\n",
    "def get_bigger(x):\n",
    "    x+=1\n",
    "    return x"
   ]
  },
  {
   "cell_type": "code",
   "execution_count": null,
   "metadata": {},
   "outputs": [],
   "source": [
    "# A while loop calls the function and exits the loop when the value of x hits 10\n",
    "y=0\n",
    "while y < 10:\n",
    "    y = get_bigger(y) \n",
    "    print(y)\n"
   ]
  },
  {
   "cell_type": "markdown",
   "metadata": {},
   "source": [
    "## Topic 5 - Test Driven Development"
   ]
  },
  {
   "cell_type": "code",
   "execution_count": null,
   "metadata": {},
   "outputs": [],
   "source": [
    "# Here's a simple example of some test cases.\n",
    "\n",
    "import unittest \n",
    "class TestStringMethods(unittest.TestCase): \n",
    "      \n",
    "    # The first is checking whether 'm'*4 = 'mmmm'\n",
    "    def test_strings_a(self):\n",
    "        \"\"\"Tests operation * with string\"\"\"\n",
    "        self.assertEqual('m'*4, 'mmmm')\n",
    "\n",
    "    # These two tests check to see if all the characters are upper case\n",
    "    # The first one passes if all the characters are upper case\n",
    "    # The second one passes if any of the characters are not upper case\n",
    "    def test_isupper(self):\n",
    "        \"\"\"Tests string method isupper()\"\"\"\n",
    "        self.assertTrue('MER'.isupper())\n",
    "        self.assertFalse('Mer'.isupper())\n",
    "\n",
    "if __name__ == '__main__': \n",
    "    unittest.main(argv=[''],exit=False) "
   ]
  },
  {
   "cell_type": "code",
   "execution_count": null,
   "metadata": {
    "scrolled": true
   },
   "outputs": [],
   "source": [
    "import unittest\n",
    "\n",
    "class TestSum(unittest.TestCase):\n",
    "\n",
    "    # This tests whether the math is correct and will return the text \"Should be 6\" if the test fails\n",
    "    def test_sum(self):\n",
    "        self.assertEqual(sum([1, 2, 3]), 6, \"Should be 6\")\n",
    "\n",
    "    def test_sum_tuple(self):\n",
    "        self.assertEqual(sum((1, 2, 2)), 6, \"Should be 6\")\n",
    "\n",
    "if __name__ == '__main__':\n",
    "    unittest.main(argv=[''],exit=False)"
   ]
  },
  {
   "cell_type": "code",
   "execution_count": null,
   "metadata": {},
   "outputs": [],
   "source": [
    "# This function does simple division of the two numbers passed in\n",
    "\n",
    "def mathdivision(numerator,denominator):\n",
    "    solution=numerator/denominator\n",
    "    return solution\n",
    "\n",
    "print(mathdivision(10,5))\n",
    "print(mathdivision(100,10))"
   ]
  },
  {
   "cell_type": "code",
   "execution_count": null,
   "metadata": {},
   "outputs": [],
   "source": [
    "# This is a group of tests to ensure the \"mathdivision\" function works correctly\n",
    "import unittest\n",
    "\n",
    "class TestDivision(unittest.TestCase):\n",
    "    def test_division(self):\n",
    "        self.assertEqual(mathdivision(100,10), 10, \"Should be 10\")\n",
    "        self.assertEqual(mathdivision(1,50), .02, \"Should be .02\")\n",
    "        self.assertEqual(mathdivision(-1,-100), .01, \"Should be .01\")\n",
    "        self.assertEqual(mathdivision(-10,5), -2, \"Should be -2\")\n",
    "            \n",
    "if __name__ == '__main__':\n",
    "    unittest.main(argv=[''],exit=False)"
   ]
  },
  {
   "cell_type": "code",
   "execution_count": null,
   "metadata": {},
   "outputs": [],
   "source": [
    "# Here's a way to gather user input\n",
    "gathered_input = input(\"Please give me an integer\")\n",
    "print(gathered_input)"
   ]
  },
  {
   "cell_type": "code",
   "execution_count": null,
   "metadata": {},
   "outputs": [],
   "source": [
    "# You can also do this within a function\n",
    "# Note that you have to declare the datatype to not have your numbers treated as strings\n",
    "def user_math():\n",
    "    a=int(input(\"Give me an integer: \"))\n",
    "    b=int(input(\"Give me another one: \"))\n",
    "    return(a+b)\n",
    "\n",
    "user_math()"
   ]
  }
 ],
 "metadata": {
  "kernelspec": {
   "display_name": "Python 3",
   "language": "python",
   "name": "python3"
  },
  "language_info": {
   "codemirror_mode": {
    "name": "ipython",
    "version": 3
   },
   "file_extension": ".py",
   "mimetype": "text/x-python",
   "name": "python",
   "nbconvert_exporter": "python",
   "pygments_lexer": "ipython3",
   "version": "3.7.3"
  }
 },
 "nbformat": 4,
 "nbformat_minor": 2
}
